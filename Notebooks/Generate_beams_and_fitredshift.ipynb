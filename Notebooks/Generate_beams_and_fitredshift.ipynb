{
 "cells": [
  {
   "cell_type": "code",
   "execution_count": 1,
   "id": "4934f587-2edf-4cc5-8523-f5150c7721e0",
   "metadata": {},
   "outputs": [],
   "source": [
    "# Import packages\n",
    "import os\n",
    "\n",
    "import glob\n",
    "import warnings\n",
    "\n",
    "import numpy as np\n",
    "import astropy.units as u\n",
    "from astropy.io import fits\n",
    "from astropy.table import Table, join\n",
    "\n",
    "\n",
    "# Import grizli\n",
    "import grizli\n",
    "from grizli import multifit, fitting\n",
    "from grizli.pipeline import auto_script\n",
    "import grizli.pipeline.photoz\n",
    "import pickle\n",
    "fname='gru-00' # Field name"
   ]
  },
  {
   "cell_type": "code",
   "execution_count": 2,
   "id": "a5d162b5-78e3-4fe7-9fbf-7a99ef7f8a30",
   "metadata": {},
   "outputs": [],
   "source": [
    "grism_files = glob.glob('%s/Prep/*GrismFLT.fits'  % fname) # Modify this to be the directory where *GrismFLT.fits are "
   ]
  },
  {
   "cell_type": "code",
   "execution_count": null,
   "id": "500ee444-69e5-47dd-9fdd-eccb8193518a",
   "metadata": {},
   "outputs": [],
   "source": []
  },
  {
   "cell_type": "code",
   "execution_count": null,
   "id": "97eafbaa-1001-4115-ba45-0e98fc91b738",
   "metadata": {},
   "outputs": [],
   "source": [
    "# read grism images of the entire field\n",
    "grp = multifit.GroupFLT(\n",
    "        grism_files=grism_files,\n",
    "        catalog='%s/Prep/%s-ir.cat.fits' % (fname,fname), # Modify this to be the location where the catalog is\n",
    "        cpu_count=8,\n",
    "        sci_extn=1,\n",
    "        pad=800,\n",
    "    )"
   ]
  },
  {
   "cell_type": "code",
   "execution_count": null,
   "id": "fa7caff2-d286-4307-89ff-741c7c61bd79",
   "metadata": {},
   "outputs": [],
   "source": [
    "#object_id we want to extract the beams from *.ir.cat.fits\n",
    "# This will make the file *beams.fits for that source\n",
    "# \n",
    "beams = grp.get_beams(object_id, size=32, min_mask=0, min_sens=0.0)\n",
    "if len(beams) > 0:\n",
    "    # Extract beam\n",
    "    mb = multifit.MultiBeam(\n",
    "        beams, fcontam=1, min_sens=0.0, min_mask=0, group_name=fname\n",
    "    )\n",
    "    mb.write_master_fits() \n"
   ]
  },
  {
   "cell_type": "code",
   "execution_count": null,
   "id": "f3dff868-d917-4333-9273-4bf55a22aae0",
   "metadata": {},
   "outputs": [],
   "source": [
    "# Generate the defaul fit parameters. The script will generate the fit_args.npy file\n",
    "pline = {\n",
    "        'kernel': 'square',\n",
    "        'pixfrac': 0.5,\n",
    "        'pixscale': 0.04,\n",
    "        'size': 8,\n",
    "        'wcs': None,\n",
    "    }\n",
    "args=auto_script.generate_fit_params(\n",
    "       fit_only_beams=True,\n",
    "       fit_beams=True,\n",
    "       run_fit=True,\n",
    "       poly_order=7,\n",
    "       sys_err=0.1,\n",
    "       fcontam=1,\n",
    "       zr=[0.1,12],\n",
    "       fit_trace_shift=True,\n",
    "       save_file='fit_args.npy',\n",
    "   pline=pline, field_root=fname, min_sens=0.0, min_mask=0.0\n",
    ")"
   ]
  },
  {
   "cell_type": "code",
   "execution_count": null,
   "id": "2c42dfd6-4efd-4ff3-b587-7c1e70d0a606",
   "metadata": {},
   "outputs": [],
   "source": [
    "# Run this code inside the directory where the above *beams.fits is saved, and where fit_args.npy, *phot_apcorr.fits are exist.\n",
    "\n",
    "# Generate the internal NIRISS photometry for Grizli redshift fitting\n",
    "args = np.load('fit_args.npy', allow_pickle=True)[0]\n",
    "aper_ix = 1\n",
    "total_flux_column = 'flux'\n",
    "get_external_photometry = False\n",
    "int_ez = grizli.pipeline.photoz.eazy_photoz(fname, force=False, object_only=True,\n",
    "              apply_background=True, aper_ix=aper_ix,\n",
    "              apply_prior=True, beta_prior=True,\n",
    "              get_external_photometry=get_external_photometry,\n",
    "              external_limits=3, external_sys_err=0.3, external_timeout=300,\n",
    "              sys_err=args['sys_err'], z_step=0.01, z_min=0.01, z_max=12,\n",
    "              total_flux=total_flux_column)\n",
    "t0 = args['t0']\n",
    "int_phot_obj = grizli.pipeline.photoz.EazyPhot(int_ez, grizli_templates=t0, zgrid=int_ez.zgrid)\n",
    "# Save as a pickle to use later for other sources.\n",
    "\n",
    "with open('outthere-niriss-%s_eazyphot.pkl' % (fname), \"wb\") as file:  # Open the file in binary write mode\n",
    "    pickle.dump(int_phot_obj, file)\n",
    "\n",
    "# if len(glob.glob('outthere-niriss-%s_eazyphot.pkl' % (fname)))==1:\n",
    "#     with open('outthere-niriss-%s_eazyphot.pkl' % (fname),'rb') as f:\n",
    "#         int_phot_obj = pickle.load(f)"
   ]
  },
  {
   "cell_type": "code",
   "execution_count": null,
   "id": "b69694a2-4aa1-480a-883b-b7c9a8198edc",
   "metadata": {},
   "outputs": [],
   "source": [
    "#Now generate the fit parameter file again using the NIRISS internal photometry \n",
    "order=0\n",
    "args_withPhot=auto_script.generate_fit_params(\n",
    "       fit_only_beams=True,\n",
    "       fit_beams=True,\n",
    "       run_fit=True,\n",
    "       poly_order=7,\n",
    "       sys_err=0.1,\n",
    "       fcontam=1,\n",
    "       zr=[0.1,12],\n",
    "       fit_trace_shift=True,\n",
    "       use_phot_obj=True,\n",
    "       scale_photometry=order+1,\n",
    "       phot_obj=int_phot_obj, # This is photometric object we created above\n",
    "       save_file='fit_args_wNIRISSphot.npy',\n",
    "       pline=pline, field_root=fname, min_sens=0.00, min_mask=0.0\n",
    "    )"
   ]
  },
  {
   "cell_type": "code",
   "execution_count": null,
   "id": "6809fd5a-9225-4669-be61-8e4a20830b12",
   "metadata": {},
   "outputs": [],
   "source": [
    "args_withPhot = np.load('fit_args_wNIRISSphot.npy', allow_pickle=True)[0]"
   ]
  },
  {
   "cell_type": "code",
   "execution_count": null,
   "id": "28f06b5a-2666-4ade-a195-f30113aedc2c",
   "metadata": {},
   "outputs": [],
   "source": [
    "# Now run the redshift fitting for a given object_id\n",
    "fitting.run_all_parallel(object_id, args_file='fit_args_wNIRISSphot.npy', \n",
    "                         verbose=True,fit_only_beams=False, only_stacks= False,fit_beams=True)\n"
   ]
  }
 ],
 "metadata": {
  "kernelspec": {
   "display_name": "Python [conda env:outthere] *",
   "language": "python",
   "name": "conda-env-outthere-py"
  },
  "language_info": {
   "codemirror_mode": {
    "name": "ipython",
    "version": 3
   },
   "file_extension": ".py",
   "mimetype": "text/x-python",
   "name": "python",
   "nbconvert_exporter": "python",
   "pygments_lexer": "ipython3",
   "version": "3.11.9"
  }
 },
 "nbformat": 4,
 "nbformat_minor": 5
}

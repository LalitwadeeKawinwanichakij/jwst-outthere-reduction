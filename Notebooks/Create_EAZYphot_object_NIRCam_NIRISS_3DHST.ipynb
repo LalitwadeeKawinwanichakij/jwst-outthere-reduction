{
 "cells": [
  {
   "cell_type": "code",
   "execution_count": 1,
   "id": "a3a2436b-42fc-485b-baa9-a27976f2716c",
   "metadata": {},
   "outputs": [],
   "source": [
    "import os, glob,pickle,sys,copy\n",
    "\n",
    "import numpy as np\n",
    "import matplotlib.pyplot as plt\n",
    "plt.rc('text', usetex=True)\n",
    "plt.rc('font', family='serif')\n",
    "myfontsize=22\n",
    "plt.rcParams.update({'font.size': myfontsize})\n",
    "from matplotlib.ticker import MultipleLocator, FormatStrFormatter,ScalarFormatter, NullFormatter,MaxNLocator, NullLocator,LogLocator\n",
    "\n",
    "\n",
    "from astropy.table import Table\n",
    "import astropy.io.fits as pyfits\n",
    "import astropy.units as u\n",
    "#from scipy.stats import gaussian_kde\n",
    "#from scipy.stats import mode\n",
    "\n",
    "from grizli import utils,prep,multifit,fitting\n",
    "from grizli.pipeline import auto_script,photoz\n",
    "import eazy\n",
    "import warnings\n",
    "warnings.filterwarnings('ignore')\n",
    "root = 'uma-03'\n",
    "prep_dir= '/Users/lkawinwanichakij/NISPureParallel/FIELDS/%s/Prep'  % root # modify if needed\n",
    "extract_dir= '/Users/lkawinwanichakij/NISPureParallel/FIELDS/%s/Extractions'  % root\n",
    "\"\"\"\n",
    "Load neccessary files for run Grizli\n",
    "\"\"\"\n",
    "fit_args_file=extract_dir+'/fit_args_wNIRISSphot.npy'\n",
    "with open(extract_dir+'/outthere-niriss-%s_eazyphot.pkl' % root, \"rb\") as f:\n",
    "     int_phot_obj = pickle.load(f)\n",
    "args=  np.load(fit_args_file, allow_pickle=True)[0]"
   ]
  },
  {
   "cell_type": "code",
   "execution_count": 2,
   "id": "d2f2f7ef-5b7c-4e91-9299-b28130453e25",
   "metadata": {},
   "outputs": [
    {
     "data": {
      "text/plain": [
       "'/Users/lkawinwanichakij/JWST/NIRISS/OutThere/uma-03/Grizli_redshiftfit_NIRISS_NIRCam_3dhst_photometry'"
      ]
     },
     "execution_count": 2,
     "metadata": {},
     "output_type": "execute_result"
    }
   ],
   "source": [
    "os.getcwd()"
   ]
  },
  {
   "cell_type": "code",
   "execution_count": 3,
   "id": "2f7831c9-76f5-4c22-9175-20adcf7d9ff8",
   "metadata": {},
   "outputs": [
    {
     "data": {
      "text/plain": [
       "['id',\n",
       " 'ra',\n",
       " 'dec',\n",
       " 'f_f150wn_niriss',\n",
       " 'e_f150wn_niriss',\n",
       " 'f_f200wn_niriss',\n",
       " 'e_f200wn_niriss',\n",
       " 'f_f160w_3dhst',\n",
       " 'e_f160w_3dhst',\n",
       " 'f_u_3dhst',\n",
       " 'e_u_3dhst',\n",
       " 'f_f435w_3dhst',\n",
       " 'e_f435w_3dhst',\n",
       " 'f_b_3dhst',\n",
       " 'e_b_3dhst',\n",
       " 'f_g_3dhst',\n",
       " 'e_g_3dhst',\n",
       " 'f_v_3dhst',\n",
       " 'e_v_3dhst',\n",
       " 'f_f606w_3dhst',\n",
       " 'e_f606w_3dhst',\n",
       " 'f_r_3dhst',\n",
       " 'e_r_3dhst',\n",
       " 'f_rs_3dhst',\n",
       " 'e_rs_3dhst',\n",
       " 'f_i_3dhst',\n",
       " 'e_i_3dhst',\n",
       " 'f_f775w_3dhst',\n",
       " 'e_f775w_3dhst',\n",
       " 'f_z_3dhst',\n",
       " 'e_z_3dhst',\n",
       " 'f_f850lp_3dhst',\n",
       " 'e_f850lp_3dhst',\n",
       " 'f_f125w_3dhst',\n",
       " 'e_f125w_3dhst',\n",
       " 'f_j_3dhst',\n",
       " 'e_j_3dhst',\n",
       " 'f_f140w_3dhst',\n",
       " 'e_f140w_3dhst',\n",
       " 'f_h_3dhst',\n",
       " 'e_h_3dhst',\n",
       " 'f_ks_3dhst',\n",
       " 'e_ks_3dhst',\n",
       " 'f_irac1_3dhst',\n",
       " 'e_irac1_3dhst',\n",
       " 'f_irac2_3dhst',\n",
       " 'e_irac2_3dhst',\n",
       " 'f_irac3_3dhst',\n",
       " 'e_irac3_3dhst',\n",
       " 'f_irac4_3dhst',\n",
       " 'e_irac4_3dhst',\n",
       " 'f_f444w-f405n_nircam',\n",
       " 'e_f444w-f405n_nircam',\n",
       " 'f_f410m_nircam',\n",
       " 'e_f410m_nircam',\n",
       " 'f_f182m_nircam',\n",
       " 'e_f182m_nircam',\n",
       " 'f_f444w_nircam',\n",
       " 'e_f444w_nircam',\n",
       " 'f_f187n_nircam',\n",
       " 'e_f187n_nircam',\n",
       " 'f_f200w_nircam',\n",
       " 'e_f200w_nircam',\n",
       " 'f_f210m_nircam',\n",
       " 'e_f210m_nircam',\n",
       " 'f_f335m_nircam',\n",
       " 'e_f335m_nircam',\n",
       " 'f_f150w_nircam',\n",
       " 'e_f150w_nircam',\n",
       " 'f_f356w_nircam',\n",
       " 'e_f356w_nircam',\n",
       " 'f_f300m_nircam',\n",
       " 'e_f300m_nircam',\n",
       " 'f_f277w_nircam',\n",
       " 'e_f277w_nircam',\n",
       " 'f_f070w_nircam',\n",
       " 'e_f070w_nircam',\n",
       " 'f_f460m_nircam',\n",
       " 'e_f460m_nircam',\n",
       " 'f_f430m_nircam',\n",
       " 'e_f430m_nircam',\n",
       " 'f_f115w_nircam',\n",
       " 'e_f115w_nircam',\n",
       " 'f_f150w2-f162m_nircam',\n",
       " 'e_f150w2-f162m_nircam',\n",
       " 'f_f090w_nircam',\n",
       " 'e_f090w_nircam',\n",
       " 'z_spec']"
      ]
     },
     "execution_count": 3,
     "metadata": {},
     "output_type": "execute_result"
    }
   ],
   "source": [
    "phot_cat= Table.read('uma03-nircam+niriss+3dhst_photcat_4eazy.fits')\n",
    "# if 'z_spec' not in phot_cat.colnames:\n",
    "#     phot_cat['z_spec'] = np.ones(len(phot_cat))*(-1)\n",
    "#     phot_cat.write('uma-03_nircam+niriss+3dhst_photcat_4eazy.fits',overwrite=True)\n",
    "phot_cat.colnames"
   ]
  },
  {
   "cell_type": "code",
   "execution_count": 4,
   "id": "0c4874c9-47e6-4f7d-86a1-491a7323d737",
   "metadata": {},
   "outputs": [
    {
     "name": "stdout",
     "output_type": "stream",
     "text": [
      "Read default param file: /opt/anaconda3/envs/jadc/lib/python3.12/site-packages/eazy/data/zphot.param.default\n",
      "Read CATALOG_FILE: uma03-nircam+niriss+3dhst_photcat_4eazy.fits\n",
      "   >>> NOBJ = 20337\n",
      "f_f160w_3dhst e_f160w_3dhst (205): hst/wfc3/IR/f160w.dat\n",
      "f_u_3dhst e_u_3dhst (227): NOAO/k1001bp_jul04.txt\n",
      "f_f435w_3dhst e_f435w_3dhst (233): hst/ACS_update_sep07/wfc_f435w_t81.dat\n",
      "f_g_3dhst e_g_3dhst (229): LRIS/g_blue_transmission.dat\n",
      "f_f606w_3dhst e_f606w_3dhst (236): hst/ACS_update_sep07/wfc_f606w_t81.dat\n",
      "f_rs_3dhst e_rs_3dhst (231): LRIS/Rs_LRISred_transmission.dat\n",
      "f_f775w_3dhst e_f775w_3dhst (238): hst/ACS_update_sep07/wfc_f775w_t81.dat\n",
      "f_f850lp_3dhst e_f850lp_3dhst (240): hst/ACS_update_sep07/wfc_f850lp_t81.dat\n",
      "f_f125w_3dhst e_f125w_3dhst (203): hst/wfc3/IR/f125w.dat\n",
      "f_j_3dhst e_j_3dhst (224): MOIRCS/J277.txt\n",
      "f_f140w_3dhst e_f140w_3dhst (204): hst/wfc3/IR/f140w.dat\n",
      "f_h_3dhst e_h_3dhst (225): MOIRCS/H117.txt\n",
      "f_ks_3dhst e_ks_3dhst (226): MOIRCS/Ks_rot1707wedged120K.txt\n",
      "f_irac1_3dhst e_irac1_3dhst ( 18): IRAC/irac_tr1_2004-08-09.dat\n",
      "f_irac2_3dhst e_irac2_3dhst ( 19): IRAC/irac_tr2_2004-08-09.dat\n",
      "f_irac3_3dhst e_irac3_3dhst ( 20): IRAC/irac_tr3_2004-08-09.dat\n",
      "f_irac4_3dhst e_irac4_3dhst ( 21): IRAC/irac_tr4_2004-08-09.dat\n",
      "f_b_3dhst e_b_3dhst (114): CAPAK_v2/B_subaru.res\n",
      "f_v_3dhst e_v_3dhst (115): CAPAK_v2/V_subaru.res\n",
      "f_r_3dhst e_r_3dhst (116): CAPAK_v2/r_subaru.res\n",
      "f_i_3dhst e_i_3dhst (117): CAPAK_v2/i_subaru.res\n",
      "f_z_3dhst e_z_3dhst (118): CAPAK_v2/z_subaru.res\n",
      "f_f070w_nircam e_f070w_nircam (362): jwst_nircam_f070w\n",
      "f_f090w_nircam e_f090w_nircam (363): jwst_nircam_f090w\n",
      "f_f115w_nircam e_f115w_nircam (364): jwst_nircam_f115w\n",
      "f_f150w_nircam e_f150w_nircam (365): jwst_nircam_f150w\n",
      "f_f200w_nircam e_f200w_nircam (366): jwst_nircam_f200w\n",
      "f_f182m_nircam e_f182m_nircam (370): jwst_nircam_f182m\n",
      "f_f210m_nircam e_f210m_nircam (371): jwst_nircam_f210m\n",
      "f_f187n_nircam e_f187n_nircam (373): jwst_nircam_f187n\n",
      "f_f277w_nircam e_f277w_nircam (375): jwst_nircam_f277w\n",
      "f_f356w_nircam e_f356w_nircam (376): jwst_nircam_f356w\n",
      "f_f444w_nircam e_f444w_nircam (377): jwst_nircam_f444w\n",
      "f_f300m_nircam e_f300m_nircam (380): jwst_nircam_f300m\n",
      "f_f335m_nircam e_f335m_nircam (381): jwst_nircam_f335m\n",
      "f_f410m_nircam e_f410m_nircam (383): jwst_nircam_f410m\n",
      "f_f430m_nircam e_f430m_nircam (384): jwst_nircam_f430m\n",
      "f_f460m_nircam e_f460m_nircam (385): jwst_nircam_f460m\n",
      "f_f150wn_niriss e_f150wn_niriss (352): jwst_niriss_f150w\n",
      "f_f200wn_niriss e_f200wn_niriss (353): jwst_niriss_f200w\n",
      "Set sys_err = 0.01 (positive=True)\n",
      "Template grid: templates/fsps_full/tweak_fsps_QSF_12_v3.param (this may take some time)\n"
     ]
    },
    {
     "name": "stderr",
     "output_type": "stream",
     "text": [
      "100%|███████████████████████████████████████████| 12/12 [00:07<00:00,  1.55it/s]\n"
     ]
    },
    {
     "name": "stdout",
     "output_type": "stream",
     "text": [
      "Template   0: tweak_fsps_QSF_12_v3_001.dat (NZ=1).\n",
      "Template   1: tweak_fsps_QSF_12_v3_002.dat (NZ=1).\n",
      "Template   2: tweak_fsps_QSF_12_v3_003.dat (NZ=1).\n",
      "Template   3: tweak_fsps_QSF_12_v3_004.dat (NZ=1).\n",
      "Template   4: tweak_fsps_QSF_12_v3_005.dat (NZ=1).\n",
      "Template   5: tweak_fsps_QSF_12_v3_006.dat (NZ=1).\n",
      "Template   6: tweak_fsps_QSF_12_v3_007.dat (NZ=1).\n",
      "Template   7: tweak_fsps_QSF_12_v3_008.dat (NZ=1).\n",
      "Template   8: tweak_fsps_QSF_12_v3_009.dat (NZ=1).\n",
      "Template   9: tweak_fsps_QSF_12_v3_010.dat (NZ=1).\n",
      "Template  10: tweak_fsps_QSF_12_v3_011.dat (NZ=1).\n",
      "Template  11: tweak_fsps_QSF_12_v3_012.dat (NZ=1).\n",
      "Process templates: 7.982 s\n"
     ]
    },
    {
     "name": "stderr",
     "output_type": "stream",
     "text": [
      "1278it [00:05, 238.02it/s]\n",
      "100%|███████████████████████████████████████████| 17/17 [00:24<00:00,  1.44s/it]"
     ]
    },
    {
     "name": "stdout",
     "output_type": "stream",
     "text": [
      "Template   0: fsps/fsps_QSF_12_v3_nolines_001.dat (NZ=1).\n",
      "Template   1: fsps/fsps_QSF_12_v3_nolines_002.dat (NZ=1).\n",
      "Template   2: fsps/fsps_QSF_12_v3_nolines_003.dat (NZ=1).\n",
      "Template   3: fsps/fsps_QSF_12_v3_nolines_004.dat (NZ=1).\n",
      "Template   4: fsps/fsps_QSF_12_v3_nolines_005.dat (NZ=1).\n",
      "Template   5: fsps/fsps_QSF_12_v3_nolines_006.dat (NZ=1).\n",
      "Template   6: fsps/fsps_QSF_12_v3_nolines_007.dat (NZ=1).\n",
      "Template   7: fsps/fsps_QSF_12_v3_nolines_008.dat (NZ=1).\n",
      "Template   8: fsps/fsps_QSF_12_v3_nolines_009.dat (NZ=1).\n",
      "Template   9: fsps/fsps_QSF_12_v3_nolines_010.dat (NZ=1).\n",
      "Template  10: fsps/fsps_QSF_12_v3_nolines_011.dat (NZ=1).\n",
      "Template  11: fsps/fsps_QSF_12_v3_nolines_012.dat (NZ=1).\n",
      "Template  12: alf_SSP.dat (NZ=1).\n",
      "Template  13: line Ha+NII+SII+SIII+He+PaB (NZ=1).\n",
      "Template  14: line OIII+Hb+Hg+Hd (NZ=1).\n",
      "Template  15: line OII+Ne (NZ=1).\n",
      "Template  16: line Gal-UV-lines (NZ=1).\n"
     ]
    },
    {
     "name": "stderr",
     "output_type": "stream",
     "text": [
      "\n"
     ]
    }
   ],
   "source": [
    "### Initialize **eazy.photoz** object for JADES\n",
    "\n",
    "params={}\n",
    "params['CATALOG_FILE'] = 'uma03-nircam+niriss+3dhst_photcat_4eazy.fits'\n",
    "params['Z_STEP'] = 0.002\n",
    "params['Z_MAX'] = 12\n",
    "params['MAIN_OUTPUT_FILE'] = 'uma-03-nircam+niriss+3dhst_phot.eazypy'\n",
    "params['PRIOR_FILTER'] = 205 # f160w\n",
    "# Galactic extinction\n",
    "#params['MW_EBV'] = {'aegis':0.0066, 'cosmos':0.0148, 'goodss':0.0069, \n",
    "#                    'uds':0.0195, 'goodsn':0.0103}[field]\n",
    "params['MW_EBV'] = 0.0103\n",
    "params['TEMPLATES_FILE'] = 'templates/fsps_full/tweak_fsps_QSF_12_v3.param'\n",
    "params['PRIOR_FILE']='templates/prior_F160W_TAO.dat'\n",
    "translate_file = 'nircam+niriss+3dhst.translate'\n",
    "jades_ez = eazy.photoz.PhotoZ(param_file=None, translate_file=translate_file, \n",
    "                        zeropoint_file=None, params=params, \n",
    "                        load_prior=True, load_products=False)\n",
    "## First-pass redshift templates, similar to the eazy templates but \n",
    "## with separate emission lines\n",
    "t0 = args['t0']\n",
    "## Make a helper object for generating photometry in a format that grizli \n",
    "## understands.\n",
    "phot_obj = photoz.EazyPhot(jades_ez , grizli_templates=t0, zgrid=jades_ez.zgrid)\n",
    "with open('uma-03-nircam+niriss+3dhst_eazyphot.pkl', \"wb\") as file:  # Open the file in binary write mode\n",
    "    pickle.dump(phot_obj, file)"
   ]
  },
  {
   "cell_type": "code",
   "execution_count": null,
   "id": "0b4ea0ba-7a89-4538-882e-a3b18d11341a",
   "metadata": {},
   "outputs": [],
   "source": []
  },
  {
   "cell_type": "code",
   "execution_count": null,
   "id": "0c325ca9-4a44-4bd4-b91b-1d16e4d80668",
   "metadata": {},
   "outputs": [],
   "source": []
  }
 ],
 "metadata": {
  "kernelspec": {
   "display_name": "jadc",
   "language": "python",
   "name": "jadc"
  },
  "language_info": {
   "codemirror_mode": {
    "name": "ipython",
    "version": 3
   },
   "file_extension": ".py",
   "mimetype": "text/x-python",
   "name": "python",
   "nbconvert_exporter": "python",
   "pygments_lexer": "ipython3",
   "version": "3.12.7"
  }
 },
 "nbformat": 4,
 "nbformat_minor": 5
}

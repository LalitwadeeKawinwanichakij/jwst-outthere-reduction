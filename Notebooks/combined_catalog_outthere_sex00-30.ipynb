{
 "cells": [
  {
   "cell_type": "code",
   "execution_count": 1,
   "id": "ab962f41-5efc-43e9-8b7c-6ccc386ae455",
   "metadata": {},
   "outputs": [],
   "source": [
    "import os\n",
    "import numpy as np\n",
    "from astropy.table import Table, vstack\n",
    "\n"
   ]
  },
  {
   "cell_type": "code",
   "execution_count": 3,
   "id": "054162b6-a2dd-46ef-a42a-d6d795fae6e9",
   "metadata": {},
   "outputs": [
    {
     "name": "stdout",
     "output_type": "stream",
     "text": [
      "Saved to combined_phot_apcorr_catalog.fits\n"
     ]
    }
   ],
   "source": [
    "import os\n",
    "import numpy as np\n",
    "from astropy.table import Table, vstack, Column\n",
    "\n",
    "# Fields and filters\n",
    "fields = [f\"{i:02d}\" for i in range(33)]\n",
    "filters = ['f115wn', 'f150wn', 'f200wn']\n",
    "ap_indices = [f'{i}' for i in range(1, 7)]\n",
    "\n",
    "# Output table list\n",
    "all_tables = []\n",
    "\n",
    "for field in fields:\n",
    "    filename = f'sex-{field}_phot_apcorr.fits'\n",
    "    if not os.path.exists(filename):\n",
    "        print(f\"Skipping missing file: {filename}\")\n",
    "        continue\n",
    "\n",
    "    cat = Table.read(filename)\n",
    "\n",
    "    # Base columns to retain\n",
    "    base_cols = ['id', 'ra', 'dec']\n",
    "    data = {col: cat[col] for col in base_cols}\n",
    "\n",
    "    # Add field name as a column\n",
    "    data['field'] = Column([f'sex-{field}'] * len(cat), dtype='str')\n",
    "\n",
    "    # Loop through each filter and aperture index\n",
    "    for filt in filters:\n",
    "        for i in ap_indices:\n",
    "            flux_col = f'{filt}_tot_{i}'\n",
    "            err_col = f'{filt}_etot_{i}'\n",
    "\n",
    "            data[flux_col] = cat[flux_col] if flux_col in cat.colnames else np.full(len(cat), -99.0)\n",
    "            data[err_col] = cat[err_col] if err_col in cat.colnames else np.full(len(cat), -99.0)\n",
    "\n",
    "    # Create table for this field and append\n",
    "    tab = Table(data)\n",
    "    all_tables.append(tab)\n",
    "\n",
    "# Combine all field tables\n",
    "combined = vstack(all_tables, metadata_conflicts='silent')\n",
    "\n",
    "# Save the result\n",
    "combined.write('combined_sex-00-32_phot_apcorr_catalog.fits', overwrite=True)\n",
    "print(\"Saved to combined_phot_apcorr_catalog.fits\")\n"
   ]
  },
  {
   "cell_type": "code",
   "execution_count": null,
   "id": "c2abb2e7-9aa7-48f4-92e4-343aaf36f71e",
   "metadata": {},
   "outputs": [],
   "source": []
  },
  {
   "cell_type": "code",
   "execution_count": null,
   "id": "45dd3e77-1b28-4e31-8f90-b2b07145755a",
   "metadata": {},
   "outputs": [],
   "source": []
  }
 ],
 "metadata": {
  "kernelspec": {
   "display_name": "jadc",
   "language": "python",
   "name": "jadc"
  },
  "language_info": {
   "codemirror_mode": {
    "name": "ipython",
    "version": 3
   },
   "file_extension": ".py",
   "mimetype": "text/x-python",
   "name": "python",
   "nbconvert_exporter": "python",
   "pygments_lexer": "ipython3",
   "version": "3.12.7"
  }
 },
 "nbformat": 4,
 "nbformat_minor": 5
}

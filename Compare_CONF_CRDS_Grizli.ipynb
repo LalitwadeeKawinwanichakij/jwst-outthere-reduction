{
 "cells": [
  {
   "cell_type": "code",
   "execution_count": 1,
   "id": "43a0e08b-b2b4-4f62-a3a8-8fa16b15427d",
   "metadata": {},
   "outputs": [],
   "source": [
    "import grizli\n",
    "from grizli import grismconf\n",
    "import numpy as np"
   ]
  },
  {
   "cell_type": "code",
   "execution_count": 2,
   "id": "3b6949a6-f8c6-427b-9eb3-a7a66cc458df",
   "metadata": {},
   "outputs": [
    {
     "name": "stdout",
     "output_type": "stream",
     "text": [
      "Order -2 = -2 not found in /Users/lkawinwanichakij/crds_cache/references/jwst/niriss/jwst_niriss_photom_0041.fits for GR150C F150W\n",
      "load_new_sensitivity_curve: only defined for NIRCAM (NIRISS)\n"
     ]
    }
   ],
   "source": [
    "conf_file='/Users/lkawinwanichakij/NISPureParallel/CRDS_CACHE/references/jwst/niriss/jwst_niriss_specwcs_0068.asdf'\n",
    "conf = grismconf.load_grism_config(conf_file)\n",
    "#crds_conf = grismconf.TransformGrismconf(conf_file=conf_file)"
   ]
  },
  {
   "cell_type": "code",
   "execution_count": 42,
   "id": "bcb5a9d9-d8af-4010-af4a-1b13c1448c97",
   "metadata": {},
   "outputs": [
    {
     "name": "stderr",
     "output_type": "stream",
     "text": [
      "2025-06-13 14:53:05,813 - stpipe - WARNING - /opt/anaconda3/envs/jadc/lib/python3.12/site-packages/astropy/units/core.py:2145: UnitsWarning: 'FLAM CGS per ELECTRON/S' did not parse as fits unit: At col 0, Unit 'FLAM' not supported by the FITS standard. Did you mean flm? If this is meant to be a custom unit, define it with 'u.def_unit'. To have it recognized inside a file reader or other code, enable it with 'u.add_enabled_units'. For details, see https://docs.astropy.org/en/latest/units/combining_and_defining.html\n",
      "  warnings.warn(msg, UnitsWarning)\n",
      "\n",
      "2025-06-13 14:53:05,814 - stpipe - WARNING - /opt/anaconda3/envs/jadc/lib/python3.12/site-packages/astropy/units/core.py:2145: UnitsWarning: 'FLAM CGS per ELECTRON/S' did not parse as fits unit: At col 0, Unit 'FLAM' not supported by the FITS standard. Did you mean flm? If this is meant to be a custom unit, define it with 'u.def_unit'. To have it recognized inside a file reader or other code, enable it with 'u.add_enabled_units'. For details, see https://docs.astropy.org/en/latest/units/combining_and_defining.html\n",
      "  warnings.warn(msg, UnitsWarning)\n",
      "\n",
      "2025-06-13 14:53:05,816 - stpipe - WARNING - /opt/anaconda3/envs/jadc/lib/python3.12/site-packages/astropy/units/core.py:2145: UnitsWarning: 'ELECTRON per PHOTON' did not parse as fits unit: At col 0, Unit 'ELECTRON' not supported by the FITS standard.  If this is meant to be a custom unit, define it with 'u.def_unit'. To have it recognized inside a file reader or other code, enable it with 'u.add_enabled_units'. For details, see https://docs.astropy.org/en/latest/units/combining_and_defining.html\n",
      "  warnings.warn(msg, UnitsWarning)\n",
      "\n",
      "2025-06-13 14:53:05,843 - stpipe - WARNING - /opt/anaconda3/envs/jadc/lib/python3.12/site-packages/astropy/units/core.py:2145: UnitsWarning: 'FLAM CGS per ELECTRON/S' did not parse as fits unit: At col 0, Unit 'FLAM' not supported by the FITS standard. Did you mean flm? If this is meant to be a custom unit, define it with 'u.def_unit'. To have it recognized inside a file reader or other code, enable it with 'u.add_enabled_units'. For details, see https://docs.astropy.org/en/latest/units/combining_and_defining.html\n",
      "  warnings.warn(msg, UnitsWarning)\n",
      "\n",
      "2025-06-13 14:53:05,844 - stpipe - WARNING - /opt/anaconda3/envs/jadc/lib/python3.12/site-packages/astropy/units/core.py:2145: UnitsWarning: 'FLAM CGS per ELECTRON/S' did not parse as fits unit: At col 0, Unit 'FLAM' not supported by the FITS standard. Did you mean flm? If this is meant to be a custom unit, define it with 'u.def_unit'. To have it recognized inside a file reader or other code, enable it with 'u.add_enabled_units'. For details, see https://docs.astropy.org/en/latest/units/combining_and_defining.html\n",
      "  warnings.warn(msg, UnitsWarning)\n",
      "\n",
      "2025-06-13 14:53:05,846 - stpipe - WARNING - /opt/anaconda3/envs/jadc/lib/python3.12/site-packages/astropy/units/core.py:2145: UnitsWarning: 'ELECTRON per PHOTON' did not parse as fits unit: At col 0, Unit 'ELECTRON' not supported by the FITS standard.  If this is meant to be a custom unit, define it with 'u.def_unit'. To have it recognized inside a file reader or other code, enable it with 'u.add_enabled_units'. For details, see https://docs.astropy.org/en/latest/units/combining_and_defining.html\n",
      "  warnings.warn(msg, UnitsWarning)\n",
      "\n",
      "2025-06-13 14:53:05,855 - stpipe - WARNING - /opt/anaconda3/envs/jadc/lib/python3.12/site-packages/astropy/units/core.py:2145: UnitsWarning: 'FLAM CGS per ELECTRON/S' did not parse as fits unit: At col 0, Unit 'FLAM' not supported by the FITS standard. Did you mean flm? If this is meant to be a custom unit, define it with 'u.def_unit'. To have it recognized inside a file reader or other code, enable it with 'u.add_enabled_units'. For details, see https://docs.astropy.org/en/latest/units/combining_and_defining.html\n",
      "  warnings.warn(msg, UnitsWarning)\n",
      "\n",
      "2025-06-13 14:53:05,856 - stpipe - WARNING - /opt/anaconda3/envs/jadc/lib/python3.12/site-packages/astropy/units/core.py:2145: UnitsWarning: 'FLAM CGS per ELECTRON/S' did not parse as fits unit: At col 0, Unit 'FLAM' not supported by the FITS standard. Did you mean flm? If this is meant to be a custom unit, define it with 'u.def_unit'. To have it recognized inside a file reader or other code, enable it with 'u.add_enabled_units'. For details, see https://docs.astropy.org/en/latest/units/combining_and_defining.html\n",
      "  warnings.warn(msg, UnitsWarning)\n",
      "\n",
      "2025-06-13 14:53:05,857 - stpipe - WARNING - /opt/anaconda3/envs/jadc/lib/python3.12/site-packages/astropy/units/core.py:2145: UnitsWarning: 'ELECTRON per PHOTON' did not parse as fits unit: At col 0, Unit 'ELECTRON' not supported by the FITS standard.  If this is meant to be a custom unit, define it with 'u.def_unit'. To have it recognized inside a file reader or other code, enable it with 'u.add_enabled_units'. For details, see https://docs.astropy.org/en/latest/units/combining_and_defining.html\n",
      "  warnings.warn(msg, UnitsWarning)\n",
      "\n",
      "2025-06-13 14:53:05,866 - stpipe - WARNING - /opt/anaconda3/envs/jadc/lib/python3.12/site-packages/astropy/units/core.py:2145: UnitsWarning: 'FLAM CGS per ELECTRON/S' did not parse as fits unit: At col 0, Unit 'FLAM' not supported by the FITS standard. Did you mean flm? If this is meant to be a custom unit, define it with 'u.def_unit'. To have it recognized inside a file reader or other code, enable it with 'u.add_enabled_units'. For details, see https://docs.astropy.org/en/latest/units/combining_and_defining.html\n",
      "  warnings.warn(msg, UnitsWarning)\n",
      "\n",
      "2025-06-13 14:53:05,867 - stpipe - WARNING - /opt/anaconda3/envs/jadc/lib/python3.12/site-packages/astropy/units/core.py:2145: UnitsWarning: 'FLAM CGS per ELECTRON/S' did not parse as fits unit: At col 0, Unit 'FLAM' not supported by the FITS standard. Did you mean flm? If this is meant to be a custom unit, define it with 'u.def_unit'. To have it recognized inside a file reader or other code, enable it with 'u.add_enabled_units'. For details, see https://docs.astropy.org/en/latest/units/combining_and_defining.html\n",
      "  warnings.warn(msg, UnitsWarning)\n",
      "\n",
      "2025-06-13 14:53:05,867 - stpipe - WARNING - /opt/anaconda3/envs/jadc/lib/python3.12/site-packages/astropy/units/core.py:2145: UnitsWarning: 'ELECTRON per PHOTON' did not parse as fits unit: At col 0, Unit 'ELECTRON' not supported by the FITS standard.  If this is meant to be a custom unit, define it with 'u.def_unit'. To have it recognized inside a file reader or other code, enable it with 'u.add_enabled_units'. For details, see https://docs.astropy.org/en/latest/units/combining_and_defining.html\n",
      "  warnings.warn(msg, UnitsWarning)\n",
      "\n"
     ]
    }
   ],
   "source": [
    "grizli_conf_file='/Users/lkawinwanichakij/NISPureParallel/GRIZLI/CONF/GR150C.F150W.221215.conf'\n",
    "grizli_conf=grismconf.load_grism_config(grizli_conf_file) #grismconf.aXeConf(conf_file=grizli_conf_file)\n"
   ]
  },
  {
   "cell_type": "markdown",
   "id": "5ab8be7a-f361-463e-be55-c8962f2060eb",
   "metadata": {},
   "source": [
    "# Compare the dxlam of Grizli default conf and CRDS conf\n",
    "The dxlam for order 'B' from Grizli default conf and CRDS are very different!\n"
   ]
  },
  {
   "cell_type": "code",
   "execution_count": 4,
   "id": "f3c4be8c-438d-4262-8488-403a71cee476",
   "metadata": {},
   "outputs": [
    {
     "data": {
      "text/plain": [
       "OrderedDict([('A',\n",
       "              array([ 50,  51,  52,  53,  54,  55,  56,  57,  58,  59,  60,  61,  62,\n",
       "                      63,  64,  65,  66,  67,  68,  69,  70,  71,  72,  73,  74,  75,\n",
       "                      76,  77,  78,  79,  80,  81,  82,  83,  84,  85,  86,  87,  88,\n",
       "                      89,  90,  91,  92,  93,  94,  95,  96,  97,  98,  99, 100, 101,\n",
       "                     102, 103, 104, 105, 106, 107, 108, 109, 110, 111, 112, 113, 114,\n",
       "                     115, 116, 117, 118, 119, 120, 121, 122, 123, 124, 125, 126, 127,\n",
       "                     128, 129, 130, 131, 132, 133, 134, 135, 136, 137, 138, 139, 140,\n",
       "                     141, 142])),\n",
       "             ('C',\n",
       "              array([336, 337, 338, 339, 340, 341, 342, 343, 344, 345, 346, 347, 348,\n",
       "                     349, 350, 351, 352, 353, 354, 355, 356, 357, 358, 359, 360, 361,\n",
       "                     362, 363, 364, 365, 366, 367, 368, 369, 370, 371, 372, 373, 374,\n",
       "                     375, 376, 377, 378, 379, 380, 381, 382, 383, 384, 385, 386, 387,\n",
       "                     388, 389, 390, 391, 392, 393, 394, 395, 396, 397, 398, 399, 400,\n",
       "                     401, 402, 403, 404, 405, 406, 407, 408, 409, 410, 411, 412, 413,\n",
       "                     414, 415, 416, 417, 418, 419, 420, 421, 422, 423, 424, 425, 426,\n",
       "                     427, 428, 429, 430, 431, 432, 433, 434, 435, 436, 437, 438, 439,\n",
       "                     440, 441, 442, 443, 444, 445, 446, 447, 448, 449, 450, 451, 452,\n",
       "                     453, 454, 455, 456, 457, 458, 459, 460, 461, 462, 463, 464, 465,\n",
       "                     466, 467, 468, 469, 470, 471, 472, 473, 474, 475, 476, 477, 478,\n",
       "                     479, 480, 481, 482, 483, 484, 485, 486, 487, 488, 489, 490, 491,\n",
       "                     492, 493, 494, 495, 496, 497, 498, 499])),\n",
       "             ('E',\n",
       "              array([-589, -588, -587, -586, -585, -584, -583, -582, -581, -580, -579,\n",
       "                     -578, -577, -576, -575, -574, -573, -572, -571, -570, -569, -568,\n",
       "                     -567, -566, -565, -564, -563, -562, -561, -560, -559, -558, -557,\n",
       "                     -556, -555, -554, -553, -552, -551, -550, -549, -548, -547, -546,\n",
       "                     -545, -544, -543, -542, -541, -540, -539, -538, -537, -536, -535,\n",
       "                     -534, -533, -532, -531, -530, -529, -528, -527, -526, -525, -524,\n",
       "                     -523, -522, -521, -520, -519, -518, -517, -516, -515, -514, -513,\n",
       "                     -512, -511, -510, -509, -508, -507])),\n",
       "             ('B', array([-1026, -1025]))])"
      ]
     },
     "execution_count": 4,
     "metadata": {},
     "output_type": "execute_result"
    }
   ],
   "source": [
    "conf.dxlam"
   ]
  },
  {
   "cell_type": "code",
   "execution_count": 53,
   "id": "fd199abb-abf8-4af3-8426-078a2de4dc35",
   "metadata": {},
   "outputs": [
    {
     "data": {
      "text/plain": [
       "OrderedDict([('A',\n",
       "              array([ 49,  50,  51,  52,  53,  54,  55,  56,  57,  58,  59,  60,  61,\n",
       "                      62,  63,  64,  65,  66,  67,  68,  69,  70,  71,  72,  73,  74,\n",
       "                      75,  76,  77,  78,  79,  80,  81,  82,  83,  84,  85,  86,  87,\n",
       "                      88,  89,  90,  91,  92,  93,  94,  95,  96,  97,  98,  99, 100,\n",
       "                     101, 102, 103, 104, 105, 106, 107, 108, 109, 110, 111, 112, 113,\n",
       "                     114, 115, 116, 117, 118, 119, 120, 121, 122, 123, 124, 125, 126,\n",
       "                     127, 128, 129, 130, 131, 132, 133, 134, 135, 136, 137, 138, 139,\n",
       "                     140, 141, 142, 143])),\n",
       "             ('B',\n",
       "              array([-220, -219, -218, -217, -216, -215, -214, -213, -212, -211, -210,\n",
       "                     -209, -208, -207, -206, -205, -204, -203, -202, -201])),\n",
       "             ('C',\n",
       "              array([314, 315, 316, 317, 318, 319, 320, 321, 322, 323, 324, 325, 326,\n",
       "                     327, 328, 329, 330, 331, 332, 333, 334, 335, 336, 337, 338, 339,\n",
       "                     340, 341, 342, 343, 344, 345, 346, 347, 348, 349, 350, 351, 352,\n",
       "                     353, 354, 355, 356, 357, 358, 359, 360, 361, 362, 363, 364, 365,\n",
       "                     366, 367, 368, 369, 370, 371, 372, 373, 374, 375, 376, 377, 378,\n",
       "                     379, 380, 381, 382, 383, 384, 385, 386, 387, 388, 389, 390, 391,\n",
       "                     392, 393, 394, 395, 396, 397, 398, 399, 400, 401, 402, 403, 404,\n",
       "                     405, 406, 407, 408, 409, 410, 411, 412, 413, 414, 415, 416, 417,\n",
       "                     418, 419, 420, 421, 422, 423, 424, 425, 426, 427, 428, 429, 430,\n",
       "                     431, 432, 433, 434, 435, 436, 437, 438, 439, 440, 441, 442, 443,\n",
       "                     444, 445, 446, 447, 448, 449, 450, 451, 452, 453, 454, 455, 456,\n",
       "                     457, 458, 459, 460, 461, 462, 463, 464, 465, 466, 467, 468, 469,\n",
       "                     470, 471, 472, 473, 474, 475, 476, 477, 478, 479, 480, 481, 482,\n",
       "                     483, 484, 485, 486, 487, 488, 489, 490, 491, 492, 493, 494, 495,\n",
       "                     496, 497, 498])),\n",
       "             ('D',\n",
       "              array([577, 578, 579, 580, 581, 582, 583, 584, 585, 586, 587, 588, 589,\n",
       "                     590, 591, 592, 593, 594, 595, 596, 597, 598, 599, 600, 601, 602,\n",
       "                     603, 604, 605, 606, 607, 608, 609, 610, 611, 612, 613, 614, 615,\n",
       "                     616, 617, 618, 619, 620, 621, 622, 623, 624, 625, 626, 627, 628,\n",
       "                     629, 630, 631, 632, 633, 634, 635, 636, 637, 638, 639, 640, 641,\n",
       "                     642, 643, 644, 645, 646, 647, 648, 649, 650, 651, 652, 653, 654,\n",
       "                     655, 656, 657, 658, 659, 660, 661, 662, 663, 664, 665, 666, 667,\n",
       "                     668, 669, 670, 671, 672, 673, 674, 675, 676, 677, 678, 679, 680,\n",
       "                     681, 682, 683, 684, 685, 686, 687, 688, 689, 690, 691, 692, 693,\n",
       "                     694, 695, 696, 697, 698, 699, 700, 701, 702, 703, 704, 705, 706,\n",
       "                     707, 708, 709, 710, 711, 712, 713, 714, 715, 716, 717, 718, 719,\n",
       "                     720, 721, 722, 723, 724, 725, 726, 727, 728, 729, 730, 731, 732,\n",
       "                     733, 734, 735, 736, 737, 738, 739, 740, 741, 742, 743, 744, 745,\n",
       "                     746, 747, 748, 749, 750, 751, 752, 753, 754, 755, 756, 757, 758,\n",
       "                     759, 760, 761, 762, 763, 764, 765, 766, 767, 768, 769, 770, 771,\n",
       "                     772, 773, 774, 775, 776, 777, 778, 779, 780, 781, 782, 783, 784,\n",
       "                     785, 786, 787, 788, 789, 790, 791, 792, 793, 794, 795, 796, 797,\n",
       "                     798, 799, 800, 801, 802, 803, 804, 805, 806, 807, 808, 809, 810,\n",
       "                     811, 812, 813, 814, 815, 816, 817, 818, 819, 820, 821, 822, 823,\n",
       "                     824, 825, 826, 827, 828, 829, 830, 831, 832, 833, 834, 835, 836,\n",
       "                     837, 838, 839, 840, 841, 842, 843, 844, 845, 846, 847, 848, 849,\n",
       "                     850, 851, 852])),\n",
       "             ('E',\n",
       "              array([-566, -565, -564, -563, -562, -561, -560, -559, -558, -557, -556,\n",
       "                     -555, -554, -553, -552, -551, -550, -549, -548, -547, -546, -545,\n",
       "                     -544, -543, -542, -541, -540, -539, -538, -537, -536, -535, -534,\n",
       "                     -533, -532, -531, -530, -529, -528, -527, -526, -525, -524, -523,\n",
       "                     -522, -521, -520, -519, -518, -517, -516, -515, -514, -513, -512,\n",
       "                     -511, -510, -509, -508, -507, -506, -505, -504, -503, -502, -501,\n",
       "                     -500, -499, -498, -497, -496, -495, -494, -493, -492, -491, -490,\n",
       "                     -489, -488, -487, -486, -485, -484, -483, -482, -481, -480, -479]))])"
      ]
     },
     "execution_count": 53,
     "metadata": {},
     "output_type": "execute_result"
    }
   ],
   "source": [
    "grizli_conf.dxlam"
   ]
  },
  {
   "cell_type": "markdown",
   "id": "f2e1e4d0-5eb7-4644-9e41-f858187b6526",
   "metadata": {},
   "source": [
    "This leads to large negative ytrace_beam of order 'B'"
   ]
  },
  {
   "cell_type": "code",
   "execution_count": 54,
   "id": "59db27dd-ca8c-4300-abfb-12aa5a622c99",
   "metadata": {},
   "outputs": [
    {
     "name": "stdout",
     "output_type": "stream",
     "text": [
      "[-1872.45700573 -2033.57017044]\n"
     ]
    }
   ],
   "source": [
    "beam='B'\n",
    "x=805.9411557491258\n",
    "y= 35.39222513887012\n",
    "ytrace_beam,lam_beam= conf.get_beam_trace(x=x,y=y,dx=conf.dxlam[beam],beam=beam)\n",
    "print(ytrace_beam)\n",
    "# dyc = np.asarray(ytrace_beam+20,dtype=int)-20+1 # integer trace\n",
    "# print(dyc)\n",
    "\n",
    "# idx = np.arange(9408,dtype=np.int64).reshape((96, 98))\n",
    "# flat_index =idx[dyc + 47, [47, 48]]\n",
    "# print(flat_index)"
   ]
  },
  {
   "cell_type": "code",
   "execution_count": 57,
   "id": "e1910e84-7f20-4893-81d3-06b75806e03f",
   "metadata": {},
   "outputs": [
    {
     "name": "stdout",
     "output_type": "stream",
     "text": [
      "[3.0939076  3.09033012 3.08675588 3.08318489 3.07961713 3.07605261\n",
      " 3.07249132 3.06893328 3.06537848 3.06182692 3.05827859 3.0547335\n",
      " 3.05119166 3.04765305 3.04411768 3.04058555 3.03705666 3.03353101\n",
      " 3.03000859 3.02648942]\n"
     ]
    }
   ],
   "source": [
    "ytrace_beam,lam_beam = grizli_conf.get_beam_trace(x=x,y=y,dx=grizli_conf.dxlam[beam],beam=beam)\n",
    "print(ytrace_beam)\n",
    "# dyc = np.asarray(ytrace_beam+20,dtype=int)-20+1 # integer trace\n",
    "# print(dyc)\n",
    "# idx = np.arange(9408,dtype=np.int64).reshape((96, 98))\n",
    "\n",
    "# flat_index =idx[dyc + 47, [47, 48]]\n",
    "# print(flat_index)"
   ]
  },
  {
   "cell_type": "code",
   "execution_count": 26,
   "id": "339525d1-0685-4169-b2cd-c8c933eabf72",
   "metadata": {},
   "outputs": [
    {
     "data": {
      "text/plain": [
       "'-x'"
      ]
     },
     "execution_count": 26,
     "metadata": {},
     "output_type": "execute_result"
    }
   ],
   "source": [
    "\n",
    "\n",
    "# beam = GrismDisperser(id=id,direct=thumb, \n",
    " #                      segmentation=seg_thumb, \n",
    " #                      xcenter=xcenter,\n",
    " #                      ycenter=ycenter,\n",
    " #                      origin=origin,\n",
    " #                      pad=self.pad,\n",
    " #                      grow=self.grism.grow,\n",
    " #                      beam=b,\n",
    " #                      conf=self.conf,\n",
    " #                      fwcpos=self.grism.fwcpos,\n",
    " #                      MW_EBV=self.grism.MW_EBV)"
   ]
  },
  {
   "cell_type": "code",
   "execution_count": 30,
   "id": "6ff3768a-1207-4602-bf74-92243fcee9ec",
   "metadata": {},
   "outputs": [
    {
     "data": {
      "text/plain": [
       "'/Users/lkawinwanichakij/NISPureParallel/GRIZLI/CONF/GR150C.F150W.221215.conf'"
      ]
     },
     "execution_count": 30,
     "metadata": {},
     "output_type": "execute_result"
    }
   ],
   "source": [
    "grizli_conf.conf_file"
   ]
  },
  {
   "cell_type": "code",
   "execution_count": 46,
   "id": "247855fe-ea28-4dfc-b839-dc5162f7c496",
   "metadata": {},
   "outputs": [],
   "source": [
    "def nancy_get_beam_trace(x=None,y=None,dx=None,conf=None,beam=None):\n",
    "    from astropy.modeling.models import Polynomial2D\n",
    "    x0 = np.squeeze(conf.transform.reverse(x, y))\n",
    "    if conf.transform.trace_axis == \"+x\":\n",
    "        t_func = conf.conf.INVDISPX\n",
    "        trace_func = conf.conf.DISPY\n",
    "        delta = 1 * dx\n",
    "    elif conf.transform.trace_axis == \"-x\":\n",
    "        t_func = conf.conf.INVDISPX\n",
    "        trace_func = conf.conf.DISPY\n",
    "        delta = -1 * dx\n",
    "    elif conf.transform.trace_axis == \"+y\":\n",
    "        t_func = conf.conf.INVDISPY\n",
    "        trace_func = conf.conf.DISPX\n",
    "        delta = 1 * dx\n",
    "    else:  # -y\n",
    "        t_func = conf.conf.INVDISPY\n",
    "        trace_func = conf.conf.DISPX\n",
    "        delta = -1 * dx\n",
    "    t = t_func(conf.order_names[beam], *x0, delta)\n",
    "    tdx = conf.conf.DISPX(conf.order_names[beam], *x0, t)\n",
    "    tdy = conf.conf.DISPY(conf.order_names[beam], *x0, t)\n",
    "\n",
    "    rev = conf.transform.forward(x0[0] + tdx, x0[1] + tdy)\n",
    "    trace_dy = rev[1, :] - y\n",
    "    return trace_dy"
   ]
  },
  {
   "cell_type": "code",
   "execution_count": 47,
   "id": "d51af288-ccfb-4837-b250-5d988a0a4500",
   "metadata": {
    "scrolled": true
   },
   "outputs": [],
   "source": [
    "trace_dy = nancy_get_beam_trace(x=x,y=y,dx=conf.dxlam[beam],beam=beam,conf=conf)"
   ]
  },
  {
   "cell_type": "code",
   "execution_count": 48,
   "id": "51e0e52f-8858-44d3-a1a2-0ad7d26e06be",
   "metadata": {},
   "outputs": [
    {
     "data": {
      "text/plain": [
       "array([-1872.45700573, -2033.57017044])"
      ]
     },
     "execution_count": 48,
     "metadata": {},
     "output_type": "execute_result"
    }
   ],
   "source": [
    "trace_dy"
   ]
  },
  {
   "cell_type": "code",
   "execution_count": null,
   "id": "6bfd1046-e97c-4f70-ab3e-d94ed4ac9b16",
   "metadata": {},
   "outputs": [],
   "source": []
  }
 ],
 "metadata": {
  "kernelspec": {
   "display_name": "jadc",
   "language": "python",
   "name": "jadc"
  },
  "language_info": {
   "codemirror_mode": {
    "name": "ipython",
    "version": 3
   },
   "file_extension": ".py",
   "mimetype": "text/x-python",
   "name": "python",
   "nbconvert_exporter": "python",
   "pygments_lexer": "ipython3",
   "version": "3.12.7"
  }
 },
 "nbformat": 4,
 "nbformat_minor": 5
}
